{
 "cells": [
  {
   "cell_type": "code",
   "execution_count": 2,
   "metadata": {},
   "outputs": [],
   "source": [
    "import re\n",
    "from bs4 import BeautifulSoup\n",
    "import requests"
   ]
  },
  {
   "cell_type": "markdown",
   "metadata": {},
   "source": [
    "# Links"
   ]
  },
  {
   "cell_type": "code",
   "execution_count": null,
   "metadata": {},
   "outputs": [],
   "source": [
    "url = \"https://en.wikipedia.org/wiki/Option_(finance)\" # This will give a list of articles related to options\n",
    "res = requests.get(url)\n",
    "soup = BeautifulSoup(res.text, \"html.parser\")"
   ]
  },
  {
   "cell_type": "code",
   "execution_count": 47,
   "metadata": {},
   "outputs": [],
   "source": [
    "last_table_class = \"nowraplinks\"\n",
    "tables = soup.findAll('table', {'class': last_table_class})\n",
    "last_table = tables[-1]"
   ]
  },
  {
   "cell_type": "code",
   "execution_count": 45,
   "metadata": {},
   "outputs": [],
   "source": [
    "# A list of all the links for FInancial Markets categories\n",
    "finance = r\"\"\"<table class=\"nowraplinks hlist mw-collapsible autocollapse navbox-inner mw-made-collapsible\" style=\"border-spacing:0;background:transparent;color:inherit\"><tbody><tr><th scope=\"col\" class=\"navbox-title\" colspan=\"2\"><button type=\"button\" class=\"mw-collapsible-toggle mw-collapsible-toggle-default mw-collapsible-toggle-expanded\" aria-expanded=\"true\" tabindex=\"0\"><span class=\"mw-collapsible-text\">hide</span></button><link rel=\"mw-deduplicated-inline-style\" href=\"mw-data:TemplateStyles:r1129693374\"><link rel=\"mw-deduplicated-inline-style\" href=\"mw-data:TemplateStyles:r1063604349\"><div class=\"navbar plainlinks hlist navbar-mini\"><ul><li class=\"nv-view\"><a href=\"/wiki/Template:Financial_markets_navigation\" title=\"Template:Financial markets navigation\"><abbr title=\"View this template\" style=\";;background:none transparent;border:none;box-shadow:none;padding:0;\">v</abbr></a></li><li class=\"nv-talk\"><a href=\"/wiki/Template_talk:Financial_markets_navigation\" title=\"Template talk:Financial markets navigation\"><abbr title=\"Discuss this template\" style=\";;background:none transparent;border:none;box-shadow:none;padding:0;\">t</abbr></a></li><li class=\"nv-edit\"><a href=\"/wiki/Special:EditPage/Template:Financial_markets_navigation\" title=\"Special:EditPage/Template:Financial markets navigation\"><abbr title=\"Edit this template\" style=\";;background:none transparent;border:none;box-shadow:none;padding:0;\">e</abbr></a></li></ul></div><div id=\"Financial_markets\" style=\"font-size:114%;margin:0 4em\"><a class=\"mw-selflink selflink\">Financial markets</a></div></th></tr><tr style=\"\"><th scope=\"row\" class=\"navbox-group\" style=\"width:1%\">Types of <a href=\"/wiki/Capital_market\" title=\"Capital market\">markets</a></th><td class=\"navbox-list-with-group navbox-list navbox-odd\" style=\"width:100%;padding:0\"><div style=\"padding:0 0.25em\">\n",
    "<ul><li><a href=\"/wiki/Primary_market\" title=\"Primary market\">Primary market</a></li>\n",
    "<li><a href=\"/wiki/Secondary_market\" title=\"Secondary market\">Secondary market</a></li>\n",
    "<li><a href=\"/wiki/Third_market\" title=\"Third market\">Third market</a></li>\n",
    "<li><a href=\"/wiki/Fourth_market\" title=\"Fourth market\">Fourth market</a></li></ul>\n",
    "</div></td></tr><tr style=\"\"><th scope=\"row\" class=\"navbox-group\" style=\"width:1%\">Types of <a href=\"/wiki/Stock\" title=\"Stock\">stocks</a></th><td class=\"navbox-list-with-group navbox-list navbox-even\" style=\"width:100%;padding:0\"><div style=\"padding:0 0.25em\">\n",
    "<ul><li><a href=\"/wiki/Common_stock\" title=\"Common stock\">Common stock</a></li>\n",
    "<li><a href=\"/wiki/Golden_share\" title=\"Golden share\">Golden share</a></li>\n",
    "<li><a href=\"/wiki/Preferred_stock\" title=\"Preferred stock\">Preferred stock</a></li>\n",
    "<li><a href=\"/wiki/Restricted_stock\" title=\"Restricted stock\">Restricted stock</a></li>\n",
    "<li><a href=\"/wiki/Tracking_stock\" title=\"Tracking stock\">Tracking stock</a></li></ul>\n",
    "</div></td></tr><tr style=\"\"><th scope=\"row\" class=\"navbox-group\" style=\"width:1%\"><a href=\"/wiki/Share_capital\" title=\"Share capital\">Share capital</a></th><td class=\"navbox-list-with-group navbox-list navbox-odd\" style=\"width:100%;padding:0\"><div style=\"padding:0 0.25em\">\n",
    "<ul><li><a href=\"/wiki/Authorised_capital\" title=\"Authorised capital\">Authorised capital</a></li>\n",
    "<li><a href=\"/wiki/Issued_shares\" title=\"Issued shares\">Issued shares</a></li>\n",
    "<li><a href=\"/wiki/Shares_outstanding\" title=\"Shares outstanding\">Shares outstanding</a></li>\n",
    "<li><a href=\"/wiki/Treasury_stock\" title=\"Treasury stock\">Treasury stock</a></li></ul>\n",
    "</div></td></tr><tr style=\"\"><th scope=\"row\" class=\"navbox-group\" style=\"width:1%\">Participants</th><td class=\"navbox-list-with-group navbox-list navbox-even\" style=\"width:100%;padding:0\"><div style=\"padding:0 0.25em\">\n",
    "<ul><li><a href=\"/wiki/Broker\" title=\"Broker\">Broker</a>\n",
    "<ul><li><a href=\"/wiki/Floor_broker\" title=\"Floor broker\">Floor broker</a></li>\n",
    "<li><a href=\"/wiki/Inter-dealer_broker\" title=\"Inter-dealer broker\">Inter-dealer broker</a></li></ul></li>\n",
    "<li><a href=\"/wiki/Broker-dealer\" title=\"Broker-dealer\">Broker-dealer</a></li>\n",
    "<li><a href=\"/wiki/Market_maker\" title=\"Market maker\">Market maker</a></li>\n",
    "<li><a href=\"/wiki/Trader_(finance)\" title=\"Trader (finance)\">Trader</a>\n",
    "<ul><li><a href=\"/wiki/Floor_trader\" title=\"Floor trader\">Floor trader</a></li>\n",
    "<li><a href=\"/wiki/Proprietary_trading\" title=\"Proprietary trading\">Proprietary trader</a></li></ul></li>\n",
    "<li><a href=\"/wiki/Quantitative_analyst\" class=\"mw-redirect\" title=\"Quantitative analyst\">Quantitative analyst</a></li>\n",
    "<li><a href=\"/wiki/Investor\" title=\"Investor\">Investor</a></li>\n",
    "<li><a href=\"/wiki/Hedge_(finance)\" title=\"Hedge (finance)\">Hedger</a></li>\n",
    "<li><a href=\"/wiki/Speculator\" class=\"mw-redirect\" title=\"Speculator\">Speculator</a></li>\n",
    "<li><a href=\"/wiki/Arbitrage\" title=\"Arbitrage\">Arbitrager</a>\n",
    "<ul><li><a href=\"/wiki/Scalping_(trading)\" title=\"Scalping (trading)\">Scalper</a></li></ul></li>\n",
    "<li><a href=\"/wiki/Financial_regulation\" title=\"Financial regulation\">Regulator</a></li></ul>\n",
    "</div></td></tr><tr style=\"\"><th scope=\"row\" class=\"navbox-group\" style=\"width:1%\">Trading venues</th><td class=\"navbox-list-with-group navbox-list navbox-odd\" style=\"width:100%;padding:0\"><div style=\"padding:0 0.25em\">\n",
    "<ul><li><a href=\"/wiki/Exchange_(organized_market)\" title=\"Exchange (organized market)\">Exchange</a>\n",
    "<ul><li><a href=\"/wiki/List_of_stock_exchanges\" class=\"mw-redirect\" title=\"List of stock exchanges\">List of stock exchanges</a></li>\n",
    "<li><a href=\"/wiki/List_of_stock_exchange_trading_hours\" class=\"mw-redirect\" title=\"List of stock exchange trading hours\">Trading hours</a></li></ul></li>\n",
    "<li><a href=\"/wiki/Over-the-counter_(finance)\" title=\"Over-the-counter (finance)\">Over-the-counter</a> (off-exchange)</li>\n",
    "<li><a href=\"/wiki/Alternative_Trading_System\" class=\"mw-redirect\" title=\"Alternative Trading System\">Alternative Trading System</a> (ATS)</li>\n",
    "<li><a href=\"/wiki/Multilateral_trading_facility\" title=\"Multilateral trading facility\">Multilateral trading facility</a> (MTF)</li>\n",
    "<li><a href=\"/wiki/Electronic_communication_network\" title=\"Electronic communication network\">Electronic communication network</a> (ECN)</li>\n",
    "<li><a href=\"/wiki/Direct_market_access\" title=\"Direct market access\">Direct market access</a> (DMA)</li>\n",
    "<li><a href=\"/wiki/Straight-through_processing\" title=\"Straight-through processing\">Straight-through processing</a> (STP)</li>\n",
    "<li><a href=\"/wiki/Dark_pool\" title=\"Dark pool\">Dark pool</a> (private exchange)</li>\n",
    "<li><a href=\"/wiki/Crossing_network\" title=\"Crossing network\">Crossing network</a></li>\n",
    "<li><a href=\"/wiki/Foreign_exchange_aggregator\" title=\"Foreign exchange aggregator\">Liquidity aggregator</a></li></ul>\n",
    "</div></td></tr><tr style=\"\"><th scope=\"row\" class=\"navbox-group\" style=\"width:1%\"><a href=\"/wiki/Stock_valuation\" title=\"Stock valuation\">Stock valuation</a></th><td class=\"navbox-list-with-group navbox-list navbox-even\" style=\"width:100%;padding:0\"><div style=\"padding:0 0.25em\">\n",
    "<ul><li><a href=\"/wiki/Alpha_(finance)\" title=\"Alpha (finance)\">Alpha</a></li>\n",
    "<li><a href=\"/wiki/Arbitrage_pricing_theory\" title=\"Arbitrage pricing theory\">Arbitrage pricing theory</a> (APT)</li>\n",
    "<li><a href=\"/wiki/Beta_(finance)\" title=\"Beta (finance)\">Beta</a></li>\n",
    "<li><a href=\"/wiki/Buffett_indicator\" title=\"Buffett indicator\">Buffett indicator</a> (Cap-to-GDP)</li>\n",
    "<li><a href=\"/wiki/Book_value\" title=\"Book value\">Book value</a> (BV)</li>\n",
    "<li><a href=\"/wiki/Capital_asset_pricing_model\" title=\"Capital asset pricing model\">Capital asset pricing model</a> (CAPM)</li>\n",
    "<li><a href=\"/wiki/Capital_market_line\" title=\"Capital market line\">Capital market line</a> (CML)</li>\n",
    "<li><a href=\"/wiki/Dividend_discount_model\" title=\"Dividend discount model\">Dividend discount model</a> (DDM)</li>\n",
    "<li><a href=\"/wiki/Dividend_yield\" title=\"Dividend yield\">Dividend yield</a></li>\n",
    "<li><a href=\"/wiki/Earnings_yield\" title=\"Earnings yield\">Earnings yield</a></li>\n",
    "<li><a href=\"/wiki/EV/EBITDA\" class=\"mw-redirect\" title=\"EV/EBITDA\">EV/EBITDA</a></li>\n",
    "<li><a href=\"/wiki/Fed_model\" title=\"Fed model\">Fed model</a></li>\n",
    "<li><a href=\"/wiki/Net_asset_value\" title=\"Net asset value\">Net asset value</a> (NAV)</li>\n",
    "<li><a href=\"/wiki/Security_characteristic_line\" title=\"Security characteristic line\">Security characteristic line</a></li>\n",
    "<li><a href=\"/wiki/Security_market_line\" title=\"Security market line\">Security market line</a> (SML)</li>\n",
    "<li><a href=\"/wiki/T-model\" title=\"T-model\">T-model</a></li></ul>\n",
    "</div></td></tr><tr style=\"\"><th scope=\"row\" class=\"navbox-group\" style=\"width:1%\">Trading theories<br> and <a href=\"/wiki/Trading_strategy\" title=\"Trading strategy\">strategies</a></th><td class=\"navbox-list-with-group navbox-list navbox-odd\" style=\"width:100%;padding:0\"><div style=\"padding:0 0.25em\">\n",
    "<ul><li><a href=\"/wiki/Algorithmic_trading\" title=\"Algorithmic trading\">Algorithmic trading</a></li>\n",
    "<li><a href=\"/wiki/Buy_and_hold\" title=\"Buy and hold\">Buy and hold</a></li>\n",
    "<li><a href=\"/wiki/Contrarian_investing\" title=\"Contrarian investing\">Contrarian investing</a></li>\n",
    "<li><a href=\"/wiki/Dollar_cost_averaging\" title=\"Dollar cost averaging\">Dollar cost averaging</a></li>\n",
    "<li><a href=\"/wiki/Efficient-market_hypothesis\" title=\"Efficient-market hypothesis\">Efficient-market hypothesis</a> (EMH)</li>\n",
    "<li><a href=\"/wiki/Fundamental_analysis\" title=\"Fundamental analysis\">Fundamental analysis</a></li>\n",
    "<li><a href=\"/wiki/Growth_stock\" title=\"Growth stock\">Growth stock</a></li>\n",
    "<li><a href=\"/wiki/Market_timing\" title=\"Market timing\">Market timing</a></li>\n",
    "<li><a href=\"/wiki/Modern_portfolio_theory\" title=\"Modern portfolio theory\">Modern portfolio theory</a> (MPT)</li>\n",
    "<li><a href=\"/wiki/Momentum_investing\" title=\"Momentum investing\">Momentum investing</a></li>\n",
    "<li><a href=\"/wiki/Mosaic_theory_(investments)\" title=\"Mosaic theory (investments)\">Mosaic theory</a></li>\n",
    "<li><a href=\"/wiki/Pairs_trade\" title=\"Pairs trade\">Pairs trade</a></li>\n",
    "<li><a href=\"/wiki/Post-modern_portfolio_theory\" title=\"Post-modern portfolio theory\">Post-modern portfolio theory</a> (PMPT)</li>\n",
    "<li><a href=\"/wiki/Random_walk_hypothesis\" title=\"Random walk hypothesis\">Random walk hypothesis</a> (RMH)</li>\n",
    "<li><a href=\"/wiki/Sector_rotation\" title=\"Sector rotation\">Sector rotation</a></li>\n",
    "<li><a href=\"/wiki/Style_investing\" title=\"Style investing\">Style investing</a></li>\n",
    "<li><a href=\"/wiki/Swing_trading\" title=\"Swing trading\">Swing trading</a></li>\n",
    "<li><a href=\"/wiki/Technical_analysis\" title=\"Technical analysis\">Technical analysis</a></li>\n",
    "<li><a href=\"/wiki/Trend_following\" title=\"Trend following\">Trend following</a></li>\n",
    "<li><a href=\"/wiki/Value_averaging\" title=\"Value averaging\">Value averaging</a></li>\n",
    "<li><a href=\"/wiki/Value_investing\" title=\"Value investing\">Value investing</a></li></ul>\n",
    "</div></td></tr><tr style=\"\"><th scope=\"row\" class=\"navbox-group\" style=\"width:1%\">Related terms</th><td class=\"navbox-list-with-group navbox-list navbox-even\" style=\"width:100%;padding:0\"><div style=\"padding:0 0.25em\">\n",
    "<ul><li><a href=\"/wiki/Bid%E2%80%93ask_spread\" title=\"Bid–ask spread\">Bid–ask spread</a></li>\n",
    "<li><a href=\"/wiki/Block_trade\" title=\"Block trade\">Block trade</a></li>\n",
    "<li><a href=\"/wiki/Cross_listing\" title=\"Cross listing\">Cross listing</a></li>\n",
    "<li><a href=\"/wiki/Dividend\" title=\"Dividend\">Dividend</a></li>\n",
    "<li><a href=\"/wiki/Dual-listed_company\" title=\"Dual-listed company\">Dual-listed company</a></li>\n",
    "<li><a href=\"/wiki/DuPont_analysis\" title=\"DuPont analysis\">DuPont analysis</a></li>\n",
    "<li><a href=\"/wiki/Efficient_frontier\" title=\"Efficient frontier\">Efficient frontier</a></li>\n",
    "<li><a href=\"/wiki/Financial_law\" title=\"Financial law\">Financial law</a></li>\n",
    "<li><a href=\"/wiki/Flight-to-quality\" title=\"Flight-to-quality\">Flight-to-quality</a></li>\n",
    "<li><a href=\"/wiki/Government_bond\" title=\"Government bond\">Government bond</a></li>\n",
    "<li><a href=\"/wiki/Greenspan_put\" title=\"Greenspan put\">Greenspan put</a></li>\n",
    "<li><a href=\"/wiki/Haircut_(finance)\" title=\"Haircut (finance)\">Haircut</a></li>\n",
    "<li><a href=\"/wiki/Initial_public_offering\" title=\"Initial public offering\">Initial public offering</a> (IPO)</li>\n",
    "<li><a href=\"/wiki/Long_(finance)\" title=\"Long (finance)\">Long</a></li>\n",
    "<li><a href=\"/wiki/Mandatory_offer\" title=\"Mandatory offer\">Mandatory offer</a></li>\n",
    "<li><a href=\"/wiki/Margin_(finance)\" title=\"Margin (finance)\">Margin</a></li>\n",
    "<li><a href=\"/wiki/Market_anomaly\" title=\"Market anomaly\">Market anomaly</a></li>\n",
    "<li><a href=\"/wiki/Market_capitalization\" title=\"Market capitalization\">Market capitalization</a></li>\n",
    "<li><a href=\"/wiki/Market_depth\" title=\"Market depth\">Market depth</a></li>\n",
    "<li><a href=\"/wiki/Market_manipulation\" title=\"Market manipulation\">Market manipulation</a></li>\n",
    "<li><a href=\"/wiki/Market_trend\" title=\"Market trend\">Market trend</a></li>\n",
    "<li><a href=\"/wiki/Mean_reversion_(finance)\" title=\"Mean reversion (finance)\">Mean reversion</a></li>\n",
    "<li><a href=\"/wiki/Momentum_(finance)\" title=\"Momentum (finance)\">Momentum</a></li>\n",
    "<li><a href=\"/wiki/Open_outcry\" title=\"Open outcry\">Open outcry</a></li>\n",
    "<li><a href=\"/wiki/Order_book\" title=\"Order book\">Order book</a></li>\n",
    "<li><a href=\"/wiki/Position_(finance)\" title=\"Position (finance)\">Position</a></li>\n",
    "<li><a href=\"/wiki/Public_float\" title=\"Public float\">Public float</a></li>\n",
    "<li><a href=\"/wiki/Public_offering\" title=\"Public offering\">Public offering</a></li>\n",
    "<li><a href=\"/wiki/Rally_(stock_market)\" title=\"Rally (stock market)\">Rally</a></li>\n",
    "<li><a href=\"/wiki/Returns-based_style_analysis\" title=\"Returns-based style analysis\">Returns-based style analysis</a></li>\n",
    "<li><a href=\"/wiki/Reverse_stock_split\" title=\"Reverse stock split\">Reverse stock split</a></li>\n",
    "<li><a href=\"/wiki/Share_repurchase\" title=\"Share repurchase\">Share repurchase</a></li>\n",
    "<li><a href=\"/wiki/Short_(finance)\" title=\"Short (finance)\">Short selling</a></li>\n",
    "<li><a href=\"/wiki/Slippage_(finance)\" title=\"Slippage (finance)\">Slippage</a></li>\n",
    "<li><a href=\"/wiki/Speculation\" title=\"Speculation\">Speculation</a></li>\n",
    "<li><a href=\"/wiki/Squeeze-out\" title=\"Squeeze-out\">Squeeze-out</a></li>\n",
    "<li><a href=\"/wiki/Stock_dilution\" title=\"Stock dilution\">Stock dilution</a></li>\n",
    "<li><a href=\"/wiki/Stock_exchange\" title=\"Stock exchange\">Stock exchange</a></li>\n",
    "<li><a href=\"/wiki/Stock_market_index\" title=\"Stock market index\">Stock market index</a></li>\n",
    "<li><a href=\"/wiki/Stock_split\" title=\"Stock split\">Stock split</a></li>\n",
    "<li><a href=\"/wiki/Stock_swap\" title=\"Stock swap\">Stock swap</a></li>\n",
    "<li><a href=\"/wiki/Trade_(financial_instrument)\" class=\"mw-redirect\" title=\"Trade (financial instrument)\">Trade</a></li>\n",
    "<li><a href=\"/wiki/Tender_offer\" title=\"Tender offer\">Tender offer</a></li>\n",
    "<li><a href=\"/wiki/Uptick_rule\" title=\"Uptick rule\">Uptick rule</a></li>\n",
    "<li><a href=\"/wiki/Volatility_(finance)\" title=\"Volatility (finance)\">Volatility</a></li>\n",
    "<li><a href=\"/wiki/Voting_interest\" title=\"Voting interest\">Voting interest</a></li>\n",
    "<li><a href=\"/wiki/Yield_(finance)\" title=\"Yield (finance)\">Yield</a></li></ul>\n",
    "</div></td></tr></tbody></table>\"\"\""
   ]
  },
  {
   "cell_type": "code",
   "execution_count": 48,
   "metadata": {},
   "outputs": [],
   "source": [
    "soup = BeautifulSoup(finance, 'html.parser')\n",
    "tables_2 = soup.findAll('table')\n",
    "tables = tables + tables_2"
   ]
  },
  {
   "cell_type": "code",
   "execution_count": 49,
   "metadata": {},
   "outputs": [],
   "source": [
    "# select all links\n",
    "all_links = []\n",
    "for table in tables:\n",
    "    links = table.findAll(\"a\")\n",
    "    links = [link.get(\"href\") for link in links]\n",
    "    links = [link for link in links if link]\n",
    "    links = [link for link in links if \"/wiki/\" in link]\n",
    "    root_url = \"https://en.wikipedia.org\"\n",
    "    links = [root_url + link for link in links]\n",
    "    links = [link for link in links if \"Template:\" not in link]\n",
    "    links = [link for link in links if \"Help:\" not in link]\n",
    "    links = [link for link in links if \"Special:\" not in link]\n",
    "    all_links.extend(links)"
   ]
  },
  {
   "cell_type": "code",
   "execution_count": 50,
   "metadata": {},
   "outputs": [
    {
     "data": {
      "text/plain": [
       "260"
      ]
     },
     "execution_count": 50,
     "metadata": {},
     "output_type": "execute_result"
    }
   ],
   "source": [
    "len(all_links)"
   ]
  },
  {
   "cell_type": "code",
   "execution_count": 51,
   "metadata": {},
   "outputs": [],
   "source": [
    "import json\n",
    "with open(\"links.json\", \"w\") as f:\n",
    "    json.dump(all_links, f)"
   ]
  },
  {
   "cell_type": "markdown",
   "metadata": {},
   "source": [
    "# Page"
   ]
  },
  {
   "cell_type": "code",
   "execution_count": 103,
   "metadata": {},
   "outputs": [],
   "source": [
    "import tqdm, random, time"
   ]
  },
  {
   "cell_type": "code",
   "execution_count": 95,
   "metadata": {},
   "outputs": [],
   "source": [
    "def process_one_line(line):\n",
    "    line = line.strip()\n",
    "    line = re.sub(r\"\\[\\d+\\]\", \"\", line)\n",
    "    if len(line) <= 1:\n",
    "        return None\n",
    "    if line:\n",
    "        return line\n",
    "    else:\n",
    "        return None\n",
    "\n",
    "\n",
    "def clean_wikipedia_text(text):\n",
    "    text = re.sub(r\"\\[\\d+\\]\", \"\", text)\n",
    "    text = re.sub(r\"\\n{2,}\", \"\\n\", text)\n",
    "    # text = re.sub(r'\\n', ' ', text)\n",
    "    lines = text.split(\"\\n\")\n",
    "    lines = [process_one_line(line) for line in lines]\n",
    "    lines = [line for line in lines if line]\n",
    "    text = \"\\n\".join(lines)\n",
    "    return text\n",
    "\n",
    "def process_file_name(file_name):\n",
    "    file_name = file_name.replace(\"Wikipedia\", \"\")\n",
    "    file_name = re.sub(r\"[^\\w\\s]\", \"\", file_name)\n",
    "    file_name = file_name.strip()\n",
    "    file_name = file_name.replace(\" \", \"_\")\n",
    "    return file_name + \".txt\""
   ]
  },
  {
   "cell_type": "code",
   "execution_count": 99,
   "metadata": {},
   "outputs": [],
   "source": [
    "root_save_dir = \"sample_files\""
   ]
  },
  {
   "cell_type": "code",
   "execution_count": 97,
   "metadata": {},
   "outputs": [],
   "source": [
    "def save_one_link(link):\n",
    "    res = requests.get(link)\n",
    "    soup = BeautifulSoup(res.text, 'html.parser')\n",
    "    title = soup.title.string\n",
    "    title = process_file_name(title)\n",
    "    text = soup.get_text()\n",
    "    text = clean_wikipedia_text(text)\n",
    "    with open(f\"{root_save_dir}/{title}\", \"w\") as f:\n",
    "        f.write(text)"
   ]
  },
  {
   "cell_type": "code",
   "execution_count": 101,
   "metadata": {},
   "outputs": [],
   "source": [
    "all_links = random.sample(all_links, 50) # save only 50 files"
   ]
  },
  {
   "cell_type": "code",
   "execution_count": 104,
   "metadata": {},
   "outputs": [
    {
     "name": "stderr",
     "output_type": "stream",
     "text": [
      "  0%|          | 0/50 [00:00<?, ?it/s]"
     ]
    },
    {
     "name": "stderr",
     "output_type": "stream",
     "text": [
      "100%|██████████| 50/50 [01:35<00:00,  1.91s/it]\n"
     ]
    }
   ],
   "source": [
    "for link in tqdm.tqdm(all_links):\n",
    "    save_one_link(link)\n",
    "    time.sleep(1)"
   ]
  }
 ],
 "metadata": {
  "kernelspec": {
   "display_name": "data_science",
   "language": "python",
   "name": "python3"
  },
  "language_info": {
   "codemirror_mode": {
    "name": "ipython",
    "version": 3
   },
   "file_extension": ".py",
   "mimetype": "text/x-python",
   "name": "python",
   "nbconvert_exporter": "python",
   "pygments_lexer": "ipython3",
   "version": "3.10.13"
  }
 },
 "nbformat": 4,
 "nbformat_minor": 2
}
